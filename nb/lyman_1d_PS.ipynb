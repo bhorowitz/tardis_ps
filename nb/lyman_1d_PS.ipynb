{
  "nbformat": 4,
  "nbformat_minor": 0,
  "metadata": {
    "accelerator": "GPU",
    "colab": {
      "name": "lyman_PS.ipynb",
      "provenance": [],
      "collapsed_sections": [
        "BD-CP2EvlHRZ"
      ]
    },
    "kernelspec": {
      "display_name": "Python 3",
      "language": "python",
      "name": "python3"
    },
    "language_info": {
      "codemirror_mode": {
        "name": "ipython",
        "version": 3
      },
      "file_extension": ".py",
      "mimetype": "text/x-python",
      "name": "python",
      "nbconvert_exporter": "python",
      "pygments_lexer": "ipython3",
      "version": "3.6.4"
    }
  },
  "cells": [
    {
      "cell_type": "markdown",
      "metadata": {
        "id": "IzuDU7SzlHRX"
      },
      "source": [
        "# Importing Libraries"
      ]
    },
    {
      "cell_type": "code",
      "metadata": {
        "id": "26AdFoRalHRX"
      },
      "source": [
        "import os\n",
        "os.environ['CUDA_DEVICE_ORDER'] = 'PCI_BUS_ID'\n",
        "os.environ['CUDA_VISIBLE_DEVICES'] = \"0\""
      ],
      "execution_count": 1,
      "outputs": []
    },
    {
      "cell_type": "code",
      "metadata": {
        "colab": {
          "base_uri": "https://localhost:8080/"
        },
        "id": "0iURSHFayvOX",
        "outputId": "c9fa79b1-8bff-4d3f-b862-5081c46a16f3"
      },
      "source": [
        "# Uncomment to run on Google Colab\n",
        "\n",
        "#%tensorflow_version 1.15.0\n",
        "#import tensorflow as tf\n",
        "#device_name = tf.test.gpu_device_name()\n",
        "#if device_name != '/device:GPU:0':\n",
        "#  raise SystemError('GPU device not found')\n",
        "#print('Found GPU at: {}'.format(device_name))"
      ],
      "execution_count": 2,
      "outputs": [
        {
          "output_type": "stream",
          "text": [
            "`%tensorflow_version` only switches the major version: 1.x or 2.x.\n",
            "You set: `1.15.0`. This will be interpreted as: `1.x`.\n",
            "\n",
            "\n",
            "TensorFlow 1.x selected.\n",
            "Found GPU at: /device:GPU:0\n"
          ],
          "name": "stdout"
        }
      ]
    },
    {
      "cell_type": "code",
      "metadata": {
        "id": "7Gp9RCO2lJNO",
        "colab": {
          "base_uri": "https://localhost:8080/"
        },
        "outputId": "cc23bbbd-2a3e-46ea-e759-4c4cb6357991"
      },
      "source": [
        "# Uncomment to run on Google Colab\n",
        "#!pip install --quiet gast==0.2.2\n",
        "#!pip install --quiet keras==2.1.6\n",
        "#!pip install --quiet flowpm==0.1"
      ],
      "execution_count": 3,
      "outputs": [
        {
          "output_type": "stream",
          "text": [
            "\u001b[?25l\r\u001b[K     |█                               | 10 kB 39.4 MB/s eta 0:00:01\r\u001b[K     |██                              | 20 kB 31.0 MB/s eta 0:00:01\r\u001b[K     |███                             | 30 kB 20.6 MB/s eta 0:00:01\r\u001b[K     |███▉                            | 40 kB 16.8 MB/s eta 0:00:01\r\u001b[K     |████▉                           | 51 kB 7.7 MB/s eta 0:00:01\r\u001b[K     |█████▉                          | 61 kB 8.1 MB/s eta 0:00:01\r\u001b[K     |██████▊                         | 71 kB 7.3 MB/s eta 0:00:01\r\u001b[K     |███████▊                        | 81 kB 8.2 MB/s eta 0:00:01\r\u001b[K     |████████▊                       | 92 kB 6.8 MB/s eta 0:00:01\r\u001b[K     |█████████▋                      | 102 kB 7.4 MB/s eta 0:00:01\r\u001b[K     |██████████▋                     | 112 kB 7.4 MB/s eta 0:00:01\r\u001b[K     |███████████▋                    | 122 kB 7.4 MB/s eta 0:00:01\r\u001b[K     |████████████▌                   | 133 kB 7.4 MB/s eta 0:00:01\r\u001b[K     |█████████████▌                  | 143 kB 7.4 MB/s eta 0:00:01\r\u001b[K     |██████████████▌                 | 153 kB 7.4 MB/s eta 0:00:01\r\u001b[K     |███████████████▍                | 163 kB 7.4 MB/s eta 0:00:01\r\u001b[K     |████████████████▍               | 174 kB 7.4 MB/s eta 0:00:01\r\u001b[K     |█████████████████▍              | 184 kB 7.4 MB/s eta 0:00:01\r\u001b[K     |██████████████████▎             | 194 kB 7.4 MB/s eta 0:00:01\r\u001b[K     |███████████████████▎            | 204 kB 7.4 MB/s eta 0:00:01\r\u001b[K     |████████████████████▎           | 215 kB 7.4 MB/s eta 0:00:01\r\u001b[K     |█████████████████████▎          | 225 kB 7.4 MB/s eta 0:00:01\r\u001b[K     |██████████████████████▏         | 235 kB 7.4 MB/s eta 0:00:01\r\u001b[K     |███████████████████████▏        | 245 kB 7.4 MB/s eta 0:00:01\r\u001b[K     |████████████████████████▏       | 256 kB 7.4 MB/s eta 0:00:01\r\u001b[K     |█████████████████████████       | 266 kB 7.4 MB/s eta 0:00:01\r\u001b[K     |██████████████████████████      | 276 kB 7.4 MB/s eta 0:00:01\r\u001b[K     |███████████████████████████     | 286 kB 7.4 MB/s eta 0:00:01\r\u001b[K     |████████████████████████████    | 296 kB 7.4 MB/s eta 0:00:01\r\u001b[K     |█████████████████████████████   | 307 kB 7.4 MB/s eta 0:00:01\r\u001b[K     |██████████████████████████████  | 317 kB 7.4 MB/s eta 0:00:01\r\u001b[K     |██████████████████████████████▉ | 327 kB 7.4 MB/s eta 0:00:01\r\u001b[K     |███████████████████████████████▉| 337 kB 7.4 MB/s eta 0:00:01\r\u001b[K     |████████████████████████████████| 339 kB 7.4 MB/s \n",
            "\u001b[?25h  Building wheel for flowpm (setup.py) ... \u001b[?25l\u001b[?25hdone\n",
            "  Building wheel for gast (setup.py) ... \u001b[?25l\u001b[?25hdone\n",
            "\u001b[31mERROR: pip's dependency resolver does not currently take into account all the packages that are installed. This behaviour is the source of the following dependency conflicts.\n",
            "kapre 0.3.5 requires tensorflow>=2.0.0, but you have tensorflow 1.15.2 which is incompatible.\u001b[0m\n"
          ],
          "name": "stdout"
        }
      ]
    },
    {
      "cell_type": "code",
      "metadata": {
        "id": "bgQd80WtlHRY",
        "scrolled": true,
        "colab": {
          "base_uri": "https://localhost:8080/"
        },
        "outputId": "f936df72-8ee5-48f6-92dd-70bf0691cd65"
      },
      "source": [
        "import tensorflow as tf\n",
        "from tensorflow.contrib.opt import ScipyOptimizerInterface\n",
        "print(tf.version.VERSION)\n",
        "\n",
        "import scipy\n",
        "from scipy.interpolate import InterpolatedUnivariateSpline as iuspline\n",
        "from scipy import ndimage\n",
        "\n",
        "import numpy as np\n",
        "\n",
        "import flowpm\n",
        "from flowpm.kernels import fftk\n",
        "from flowpm import linear_field, lpt_init, nbody, cic_paint\n",
        "import flowpm.tfpm as tfpm\n",
        "import flowpm.utils as pmutils\n",
        "\n",
        "%pylab inline"
      ],
      "execution_count": 4,
      "outputs": [
        {
          "output_type": "stream",
          "text": [
            "1.15.2\n",
            "Populating the interactive namespace from numpy and matplotlib\n"
          ],
          "name": "stdout"
        }
      ]
    },
    {
      "cell_type": "markdown",
      "metadata": {
        "id": "bQjM2q3ylHRY"
      },
      "source": [
        "# Global simulation parameters"
      ]
    },
    {
      "cell_type": "code",
      "metadata": {
        "id": "sHdpAIj8lHRZ"
      },
      "source": [
        "bs = 64 #simulation box size in Mpc/h\n",
        "nc = 64 #particle number sidelength (i.e. nc**3 is number of particles in sim)\n",
        "\n",
        "k_min = 0.1 #minimum k-value for binned powerspectra\n",
        "dk = 0.25 #differential in each kbin\n",
        "\n",
        "# Power spectrum model\n",
        "def true_test_powerspectrum(k, A, n, m):\n",
        "    return A*(k + m*n)**n\n"
      ],
      "execution_count": 5,
      "outputs": []
    },
    {
      "cell_type": "markdown",
      "metadata": {
        "id": "mVazl7AhxDCH"
      },
      "source": [
        "### Planck 2015 approximate power spectra"
      ]
    },
    {
      "cell_type": "code",
      "metadata": {
        "id": "jHow19nqxBSG",
        "colab": {
          "base_uri": "https://localhost:8080/",
          "height": 306
        },
        "outputId": "cc2a3bf3-b1f1-473a-c648-def31c419d70"
      },
      "source": [
        "klin = np.arange(0.001, 5, 0.01)\n",
        "plin = np.zeros(len(klin))\n",
        "i=0\n",
        "for k in klin:\n",
        "    plin[i] = true_test_powerspectrum(k, 90, -2.55, -0.04)\n",
        "    i += 1\n",
        "\n",
        "# estimate fiducial cosmology function\n",
        "ipklin = iuspline(klin, plin)\n",
        "\n",
        "# change paths to plot Planck 2015 ps\n",
        "#klin_planck = np.loadtxt('./Planck15_a1p00.txt').T[0]\n",
        "#plin_planck = np.loadtxt('./Planck15_a1p00.txt').T[1]\n",
        "\n",
        "plt.loglog(klin, plin, label=\"linear_fid\")\n",
        "#plt.loglog(klin_planck, plin_planck, label=\"Planck_2015_fid\")\n",
        "plt.xlim([0.1, 4.5])\n",
        "plt.xlabel(\"$k$ [$h$ Mpc$^{-1}]$\")\n",
        "plt.ylabel(\"$P(k)$\")\n",
        "legend()\n",
        "\n",
        "#np.random.seed(0)"
      ],
      "execution_count": 6,
      "outputs": [
        {
          "output_type": "execute_result",
          "data": {
            "text/plain": [
              "<matplotlib.legend.Legend at 0x7fbd53951a50>"
            ]
          },
          "metadata": {},
          "execution_count": 6
        },
        {
          "output_type": "display_data",
          "data": {
            "image/png": "[encoded data removed]",
            "text/plain": [
              "<Figure size 432x288 with 1 Axes>"
            ]
          },
          "metadata": {
            "needs_background": "light"
          }
        }
      ]
    },
    {
      "cell_type": "markdown",
      "metadata": {
        "id": "BD-CP2EvlHRZ"
      },
      "source": [
        "# Helper Functions\n",
        "### i) Global power spectra helper functions"
      ]
    },
    {
      "cell_type": "code",
      "metadata": {
        "id": "CIJoPGRSlHRa"
      },
      "source": [
        "def _initialize_pk(shape,boxsize,kmin,dk):\n",
        "    \"\"\"\n",
        "       Helper function to initialize various (fixed) values for powerspectra... not differentiable!\n",
        "    \"\"\"\n",
        "    I = np.eye(len(shape), dtype='int') * -2 + 1\n",
        "\n",
        "    W = np.empty(shape, dtype='f4')\n",
        "    W[...] = 2.0\n",
        "    W[..., 0] = 1.0\n",
        "    W[..., -1] = 1.0\n",
        "    kedges = np.arange(kmin, np.pi * 3 / 2 + dk/2, dk)\n",
        "    #kedges = np.logspace(log10(kmin), log10(np.pi * 3 / 2 + dk/2), 9)\n",
        "\n",
        "    k = [np.fft.fftfreq(N, 1. / (N * 2 * np.pi / L))[:pkshape].reshape(kshape) for N, L, kshape, pkshape in zip(shape.as_list(), boxsize, I, shape.as_list())]\n",
        "    kmag = sum(ki ** 2 for ki in k) ** 0.5\n",
        "\n",
        "    xsum = np.zeros(len(kedges) + 1)\n",
        "    Nsum = np.zeros(len(kedges) + 1)\n",
        "\n",
        "    dig = np.digitize(kmag.flat, kedges)\n",
        "\n",
        "    #print(dig.size,xsum.size,len((W * kmag).flat))\n",
        "    xsum.flat += np.bincount(dig, weights=(W * kmag).flat, minlength=xsum.size)\n",
        "    Nsum.flat += np.bincount(dig, weights=W.flat, minlength=xsum.size)\n",
        "    dig = tf.convert_to_tensor(dig,dtype=tf.int32)\n",
        "    Nsum = tf.convert_to_tensor(Nsum,dtype=tf.complex64)\n",
        "    xsum = tf.convert_to_tensor(np.array(xsum))\n",
        "    W = tf.convert_to_tensor(np.array(W))\n",
        "    k = np.array(k)\n",
        "    kedges = tf.convert_to_tensor(np.array(kedges))\n",
        "    return dig, Nsum, xsum, W, k, kedges"
      ],
      "execution_count": 7,
      "outputs": []
    },
    {
      "cell_type": "code",
      "metadata": {
        "id": "ag-BUQdwlHRa"
      },
      "source": [
        "def pk(field, kmin=5, dk=0.8, shape = False, boxsize= False):   \n",
        "    \"\"\"\n",
        "    Calculate the powerspectra given real space field\n",
        "    \n",
        "    Args:\n",
        "        \n",
        "        field: real valued field \n",
        "        kmin: minimum k-value for binned powerspectra\n",
        "        dk: differential in each kbin\n",
        "        shape: shape of field to calculate field (can be strangely shaped?)\n",
        "        boxsize: length of each boxlength (can be strangly shaped?)\n",
        "    \n",
        "    Returns:\n",
        "        \n",
        "        kbins: the central value of the bins for plotting\n",
        "        power: real valued array of power in each bin\n",
        "        \n",
        "    \"\"\"\n",
        "    #initialze values related to powerspectra\n",
        "    dig, Nsum, xsum, W, k, kedges = _initialize_pk(shape,boxsize,kmin,dk)\n",
        "    \n",
        "    #convert field to complex for fft\n",
        "    field_complex = tf.dtypes.cast(field,dtype=tf.complex64)\n",
        "\n",
        "    #fast fourier transform\n",
        "    fft_image = tf.signal.fft3d(field_complex)\n",
        "    \n",
        "    #absolute value of fast fourier transform\n",
        "    pk = tf.math.real(fft_image*tf.math.conj(fft_image))\n",
        "    #calculating powerspectra\n",
        "    Psum = tf.zeros(tf.size(kedges) + 1, dtype=tf.complex64)\n",
        "    real = tf.reshape(tf.math.real(pk),[-1,])\n",
        "    imag = tf.reshape(tf.math.imag(pk),[-1,])\n",
        "    \n",
        "    Psum  += tf.dtypes.cast(tf.math.bincount(dig, weights=(tf.reshape(W,[-1])  * imag), minlength=tf.size(xsum)),dtype=tf.complex64)*1j\n",
        "    Psum  += tf.dtypes.cast(tf.math.bincount(dig, weights=(tf.reshape(W,[-1]) * real), minlength=tf.size(xsum)),dtype=tf.complex64)\n",
        "    #print(W.flatten()  * imag,Psum)\n",
        "\n",
        "    power = (Psum / Nsum)[1:-1] * boxsize.prod() \n",
        "    \n",
        "    #normalization for powerspectra\n",
        "    norm = tf.dtypes.cast(tf.reduce_prod(shape),dtype=tf.float32)**2\n",
        "    \n",
        "    #find central values of each bin\n",
        "    kbins = kedges[:-1]+ (kedges[1:] - kedges[:-1])/2\n",
        "    \n",
        "    return kbins,tf.dtypes.cast(power,dtype=tf.float32)/norm"
      ],
      "execution_count": 8,
      "outputs": []
    },
    {
      "cell_type": "code",
      "metadata": {
        "id": "xQEKaj7TlHRb"
      },
      "source": [
        "def pk_func(inputs):\n",
        "    nc = inputs.shape[1] #assume equal dimensions right now\n",
        "    ic = tf.placeholder(tf.float32, [1, nc, nc, nc]) #Starting Point\n",
        "    pkr = pk(tf.squeeze(ic,0),shape = ic.shape[1:],  boxsize= np.array([bs,bs,bs]),kmin= k_min,dk=dk)#dk=0.4, kmin = 0.001\n",
        "    with tf.Session() as sess:\n",
        "        pk_out = sess.run((pkr),{ic: inputs})\n",
        "    return pk_out"
      ],
      "execution_count": 9,
      "outputs": []
    },
    {
      "cell_type": "code",
      "metadata": {
        "id": "qn5FAiFjDJQ2"
      },
      "source": [
        "def fourier_transform(data, divisor, axis=1, sampling=1):\n",
        "    fourier = np.fft.fft(data, axis=axis)\n",
        "    n = (1/sampling)*divisor\n",
        "    print(data.shape[axis])\n",
        "    freq = np.fft.fftfreq(data.shape[axis], n)\n",
        "    fourier = np.fft.fftshift(fourier, axes=axis)\n",
        "    freq = np.fft.fftshift(freq)\n",
        "    return fourier, freq\n",
        "\n",
        "\n",
        "def power_spectrum_1d(data, divisor, axis=1, sampling=1):\n",
        "    fourier, freq = fourier_transform(data, divisor, axis=axis, sampling=1)\n",
        "    power = np.conjugate(fourier)*fourier\n",
        "    return power, freq"
      ],
      "execution_count": 10,
      "outputs": []
    },
    {
      "cell_type": "markdown",
      "metadata": {
        "id": "GcVHXlWflHRb"
      },
      "source": [
        "### ii) Defining optimization-related helper functions "
      ]
    },
    {
      "cell_type": "code",
      "metadata": {
        "id": "L1Qpi5AMlHRb"
      },
      "source": [
        "#variable noise... in this case masking the edges and including variable noise over image\n",
        "a = numpy.arange(64)\n",
        "numpy.random.shuffle(a)\n",
        "noise_prop = np.ones((nc,nc,nc))*0.01\n",
        "inv_sigma = (1/noise_prop)\n",
        "def likelihood_fn(inputs, b, predictions, inv_sigma = inv_sigma):\n",
        "    \"\"\" Evaluates the data chi-squared function through Fast PM\n",
        "    \"\"\"\n",
        "    _,final_field = pm(predictions[..., 0],b)\n",
        "\n",
        "    clipped1 = final_field\n",
        "    clipped2 = inputs[...,0]\n",
        "    likelihood = tf.reduce_sum((clipped1-clipped2)**2*inv_sigma**2, \n",
        "                              axis=[1, 2, 3])\n",
        "    return likelihood, final_field\n",
        "\n",
        "def likelihood_fn_lya(inputs, data, inverse_covar):\n",
        "    #Evaluates the data chi-squared function through Fast PM\n",
        "    #Clipping very high values which end up dominating the likelihood\n",
        "\n",
        "    #weighted by number count in bin for poisson errors\n",
        "    residual = tf.subtract(inputs, data)\n",
        "    values = tf.multiply(residual, tf.transpose(tf.sparse.sparse_dense_matmul(inverse_covar, residual, adjoint_b=True)))\n",
        "    return values\n",
        "\n",
        "def smoothing(field,Rsm,kmesh,nc):\n",
        "    \"\"\" smoothing field in fourier space\n",
        "    \"\"\"\n",
        "    Rsmsq = tf.multiply(Rsm, Rsm)\n",
        "    smwts = tf.exp(tf.multiply(-kmesh**2, Rsmsq))\n",
        "\n",
        "    datak = tfpm.r2c3d(field, norm=nc**3)\n",
        "    datak = tf.multiply(datak, tf.cast(smwts, tf.complex64))\n",
        "    dataf = tfpm.c2r3d(datak, norm=nc**3)\n",
        "    return dataf"
      ],
      "execution_count": 11,
      "outputs": []
    },
    {
      "cell_type": "code",
      "metadata": {
        "id": "QADYgosAlHRc"
      },
      "source": [
        "def pm(lin,b):\n",
        "    ''' Evolution operator, NOTE: this is using all the tensorflow tensors, need to use a tf.Session() to evaluate them.\n",
        "    '''\n",
        "    state = flowpm.lpt_init(lin, a0=0.1)\n",
        "    final_state = flowpm.nbody(state, stages, nc)\n",
        "    final_field = flowpm.cic_paint(tf.zeros_like(lin), final_state[0])\n",
        "    return  final_field, tf.math.exp(-1*(0.20+b[0])*final_field**(b[1]+1.8))#(0.90+0.1*b[0])*final_field + (0.20+0.1*b[1])*final_field**2.0#tf.math.exp(-(0.22+b[0]*0.0001)*final_field**(1.8+b[1]*0.0001))"
      ],
      "execution_count": 12,
      "outputs": []
    },
    {
      "cell_type": "code",
      "metadata": {
        "id": "uTWPvE5D-gtk"
      },
      "source": [
        "def gen_noise(nzpix, n_skewers, snr_min, snr_max, alpha):\n",
        "    #generates noise according to specified distribution\n",
        "    snr = numpy.minimum(snr_min/numpy.random.power(alpha-1,size=n_skewers),snr_max)\n",
        "    skewers_noise = (1.0/snr[:,numpy.newaxis])*numpy.ones(nzpix)\n",
        "    return snr, skewers_noise\n",
        "\n",
        "def likelihood_fn_lya(inputs, data, inverse_covar):\n",
        "    #Evaluates the data chi-squared function through Fast PM\n",
        "    #Clipping very high values which end up dominating the likelihood\n",
        "\n",
        "    #weighted by number count in bin for poisson errors\n",
        "    residual = tf.subtract(inputs, data)\n",
        "    values = tf.multiply(residual, tf.transpose(tf.sparse.sparse_dense_matmul(inverse_covar, residual, adjoint_b=True)))\n",
        "    return values\n",
        "\n",
        "def reduce_sum_det(x):\n",
        "    #deterministic reduce sum\n",
        "    v = tf.reshape(x, [1, -1])\n",
        "    return tf.reshape(tf.matmul(v, tf.ones_like(v), transpose_b=True), [])"
      ],
      "execution_count": 13,
      "outputs": []
    },
    {
      "cell_type": "code",
      "metadata": {
        "id": "f8jp292slHRc"
      },
      "source": [
        "class TARDIS:\n",
        "    def __init__(self, isLyaReconstruction = [False, ], prior_v = [0.0,0.0]):\n",
        "        self.prior_v = prior_v\n",
        "        self.isLyaReconstruction = isLyaReconstruction\n",
        "        self.__init__model()\n",
        "    def __init__model(self):\n",
        "        self.xx = tf.placeholder(tf.float32, [1, nc, nc, nc]) #Starting Point\n",
        "        if (self.isLyaReconstruction[0] == False):\n",
        "            self.yy = tf.placeholder(tf.float32, [1, nc, nc, nc]) #Data\n",
        "        else:\n",
        "            self.skewers_fin = self.isLyaReconstruction[1]\n",
        "            self.yy = tf.placeholder(tf.float32, [self.skewers_fin.shape[0]]) #lya flux\n",
        "\n",
        "        self.bias = tf.Variable([0.0,0.0], name=\"variables\", trainable=True) #Bias\n",
        "\n",
        "        self.linearkk = tf.get_variable('linmesh', shape=(1, nc, nc, nc),\n",
        "                    initializer=tf.random_normal_initializer(mean=1.0, stddev=0.5), trainable=True)\n",
        "        self.initlin_op = self.linearkk.assign(self.xx, name='initlin_op')\n",
        "\n",
        "        linear_wc = tfpm.r2c3d(self.linearkk, norm=nc**3, name=None)\n",
        "        linear_k = tf.multiply(linear_wc, (pkmesh/bs**3)**0.5)\n",
        "        self.linear = tfpm.c2r3d(linear_k , norm=nc**3, name=None) #*1024*np.sqrt(2) \n",
        "\n",
        "        # Compute the likelihood fn\n",
        "        if (self.isLyaReconstruction[0] == False):\n",
        "            self.likelihood, self.final_field = likelihood_fn(tf.expand_dims(self.yy, -1), self.bias, tf.expand_dims(self.linear,-1)) \n",
        "        else:\n",
        "            self.inverse_covar = self.isLyaReconstruction[2]\n",
        "            self.final_field, self. evolved_field_FGPA = pm(self.linear, self.bias)\n",
        "            # No RSD stuff\n",
        "            #evolved_field_FGPA = K.exp(-1.0*self.RSD_tau)#fgpa(self.evolved_field,bias_lya)\n",
        "            #evolved_field_FGPA = np.exp(-b1*sim2**b2)\n",
        "\n",
        "            # No smoothing for now...\n",
        "            #evolved_field_FGPA_sm = smoothing(evolved_field_FGPA, Rsm, kmesh, nc)\n",
        "        \n",
        "            self.flux_val = flowpm.cic_readout(self.evolved_field_FGPA, np.array(self.skewers_fin,dtype=np.float32).reshape(1,-1,3))\n",
        "            self.likelihood_lya = likelihood_fn_lya(self.flux_val, self.yy, self.inverse_covar)\n",
        "            self.likelihood = reduce_sum_det(self.likelihood_lya)\n",
        "            \n",
        "        # Compute the prior on field\n",
        "        prior_1 = tf.cast(tf.square(tf.abs(linear_wc)), tf.float32)#tf.reduce_sum(tf.multiply(priormesh, 1/pkmesh**2))\n",
        "\n",
        "        # Compute the prior on the parameters\n",
        "        prior_values = tf.constant(self.prior_v)\n",
        "        prior_2 = tf.reduce_sum((prior_values-self.bias)**2.0)/(0.01**2) #rough gaussian prior...\n",
        "\n",
        "        prior_total = tf.reduce_sum(prior_1)+prior_2\n",
        "\n",
        "        self.logposterior = tf.reduce_mean(self.likelihood) +  tf.reduce_mean(prior_total)"
      ],
      "execution_count": 14,
      "outputs": []
    },
    {
      "cell_type": "code",
      "metadata": {
        "id": "fF90mjJVlHRc"
      },
      "source": [
        "def optimize(T, variable, data, maxiter, starting_point = np.random.randn(1,nc,nc,nc), gtol=1e-12, sigma=1.0, isLyaReconstruction = False):\n",
        "    opt = ScipyOptimizerInterface(T.logposterior, var_list=variable, method='L-BFGS-B',\n",
        "                                                    options={'maxiter': maxiter, 'gtol':gtol})\n",
        "    sess.run(tf.global_variables_initializer())\n",
        "\n",
        "    batchsize = 1\n",
        "    # Initialize gradient descent at random point\n",
        "    sess.run(T.initlin_op, {T.xx: starting_point});\n",
        "    st = time.time()\n",
        "    #opt.minimize(sess, {T.yy:data[0:1]})\n",
        "    if (isLyaReconstruction == False): opt.minimize(sess, {T.yy:data[0:1]})\n",
        "    else: opt.minimize(sess, {T.yy:data})\n",
        "    print(\"Total Time:\", time.time()-st)"
      ],
      "execution_count": 15,
      "outputs": []
    },
    {
      "cell_type": "markdown",
      "metadata": {
        "id": "nwuEs96__aFt"
      },
      "source": [
        "# Ly-$\\alpha$ 1-d power spectra "
      ]
    },
    {
      "cell_type": "code",
      "metadata": {
        "id": "TQ6gHqNS_qao"
      },
      "source": [
        "# Function that takes in: \n",
        "#   1) Input parameters for the linear power spectra model: A_s, n_s, m_s\n",
        "#\n",
        "#   2) Various skewer properties, including the number of Ly𝛼 skewers, n_skewers, \n",
        "#      the snr_min and snr_max range for the skewers, and alpha. \n",
        "#\n",
        "# Returns the 1-d powerspectrum associated with the mock field and skewers evolved from the initial linear ps/field.\n",
        "def condensed_1d_ps(A_s, n_s, m_s, n_skewers = 4000, snr_min = 2, snr_max = 10, alpha = 2.8):\n",
        "  ########################################################\n",
        "  # Making Initial Density Field\n",
        "  ########################################################\n",
        "  klin = np.arange(0.001, 5, 0.01)\n",
        "  plin = np.zeros(len(klin))\n",
        "  i=0\n",
        "  for k in klin:\n",
        "      plin[i] = true_test_powerspectrum(k, A_s, n_s, m_s)\n",
        "      i += 1\n",
        "\n",
        "  # fiducial cosmology function\n",
        "  ipklin = iuspline(klin, plin)\n",
        "\n",
        "  # Set initial conditions\n",
        "  initial_conditions = flowpm.linear_field(nc, bs, ipklin, batch_size=1)\n",
        "  with tf.Session() as sess: linear_true = sess.run((initial_conditions))\n",
        "\n",
        "  stages = np.linspace(0.1, 0.3, 10, endpoint=True) ## 0.3 when using lyman alpha forest\n",
        "  ic = tf.placeholder(tf.float32, [1, nc, nc,nc]) #Starting Point\n",
        "\n",
        "  # Sample particles\n",
        "  state = flowpm.lpt_init(ic, a0=0.1)   \n",
        "\n",
        "  # Evolve particles down to z=0\n",
        "  final_state = flowpm.nbody(state, stages, nc)         \n",
        "\n",
        "  # Retrieve final density field\n",
        "  final_field = flowpm.cic_paint(tf.zeros_like(ic), final_state[0])\n",
        "\n",
        "  # Calculate power spectra for intial density field\n",
        "  pkr_ic = pk(tf.squeeze(ic,0),shape = final_field.shape[1:],  boxsize= np.array([bs,bs,bs]),kmin=k_min,dk=dk)\n",
        "\n",
        "  # Calculate power spectra for final density field\n",
        "  pkr = pk(tf.squeeze(final_field,0),shape = final_field.shape[1:],  boxsize= np.array([bs,bs,bs]),kmin=k_min,dk=dk)\n",
        "          \n",
        "  with tf.Session() as sess:\n",
        "      sim, pkr_ic0, pkr_out = sess.run((final_field,pkr_ic,pkr),{ic: linear_true})\n",
        "\n",
        "  # True Bias Values\n",
        "  b1=.22\n",
        "  b2=1.8\n",
        "\n",
        "  noise_real = np.random.randn(nc,nc,nc)*noise_prop\n",
        "  sims2 = sim #ndimage.gaussian_filter(sim,0.2,mode=\"wrap\")\n",
        "  gal= np.exp(-b1*sims2**b2) #apply FGPA\n",
        "  data = gal + noise_real #add noise\n",
        "\n",
        "  ########################################################\n",
        "  # Create Lyman-α skewer sample\n",
        "  ########################################################\n",
        "  # smoothing factor\n",
        "  sm = 0.5\n",
        "\n",
        "  # Power law distribution of noise with high snr cutoff\n",
        "  snr, noise_level = gen_noise(nc, n_skewers, snr_min, snr_max, alpha)\n",
        "\n",
        "  # Select skewers\n",
        "  x = np.array(np.floor(np.random.rand(n_skewers)*nc),dtype=int)\n",
        "  y = np.array(np.floor(np.random.rand(n_skewers)*nc),dtype=int)\n",
        "  z = np.arange(0, nc)\n",
        "          \n",
        "  pos = np.vstack([x,y])\n",
        "  skewers_pos = []\n",
        "  for i in pos.T:\n",
        "      skewers_pos.append(np.hstack([i*np.ones((nc,2)),z.reshape(1,-1).T]))\n",
        "      \n",
        "  # final skewer data positions\n",
        "  skewers_fin = np.array(np.vstack(skewers_pos),dtype=int)\n",
        "          \n",
        "  # flux values at each point\n",
        "  vals_lya = gal[0, skewers_fin[:,0], skewers_fin[:,1], skewers_fin[:,2]]\n",
        "\n",
        "  # add noise\n",
        "  n = numpy.array([numpy.random.normal(scale = np.sqrt(abs(i)), size = nc) for i in noise_level]).flatten()\n",
        "\n",
        "  noise_variance = numpy.array([abs(i)*numpy.ones(nc) for i in noise_level]).flatten()\n",
        "  # The inverse covar must be of type float32.\n",
        "  noise_variance = noise_variance.astype(np.float32)\n",
        "  indices = [(i, i) for i in range(len(noise_variance))]\n",
        "  inverse_covar = tf.SparseTensorValue(indices, noise_variance**-1, [len(noise_variance), len(noise_variance)])\n",
        "        \n",
        "  # Mock Skewers\n",
        "  vals_observed = ndimage.gaussian_filter1d(vals_lya, sm) + n\n",
        "\n",
        "  # Should return 1-d ps, but returning 1-d array containing skewers  \n",
        "\n",
        "  #return power_spectrum_1d(vals_observed, divisor = 1, axis = 0)\n",
        "  return vals_observed"
      ],
      "execution_count": 16,
      "outputs": []
    },
    {
      "cell_type": "code",
      "metadata": {
        "colab": {
          "base_uri": "https://localhost:8080/"
        },
        "id": "y9Xj6lwBjSIy",
        "outputId": "a657919c-ddb1-4042-ac98-b4b094cd4782"
      },
      "source": [
        "vals_observed = condensed_1d_ps(A_s = 90, n_s= -2.55, m_s = -0.04, n_skewers = 1000, snr_min = 2, snr_max = 10, alpha = 2.8)"
      ],
      "execution_count": 17,
      "outputs": [
        {
          "output_type": "stream",
          "text": [
            "WARNING:tensorflow:From /usr/local/lib/python3.7/dist-packages/flowpm/utils.py:158: The name tf.random_normal is deprecated. Please use tf.random.normal instead.\n",
            "\n"
          ],
          "name": "stdout"
        },
        {
          "output_type": "stream",
          "text": [
            "/usr/local/lib/python3.7/dist-packages/ipykernel_launcher.py:15: DeprecationWarning: Calling np.sum(generator) is deprecated, and in the future will give a different result. Use np.sum(np.fromiter(generator)) or the python sum builtin instead.\n",
            "  from ipykernel import kernelapp as app\n",
            "/usr/local/lib/python3.7/dist-packages/ipykernel_launcher.py:29: VisibleDeprecationWarning: Creating an ndarray from ragged nested sequences (which is a list-or-tuple of lists-or-tuples-or ndarrays with different lengths or shapes) is deprecated. If you meant to do this, you must specify 'dtype=object' when creating the ndarray\n"
          ],
          "name": "stderr"
        }
      ]
    },
    {
      "cell_type": "code",
      "metadata": {
        "colab": {
          "base_uri": "https://localhost:8080/"
        },
        "id": "ZcIzVzmSt4i1",
        "outputId": "3f5534bb-6894-4292-f9cb-b1f27289acf3"
      },
      "source": [
        "power, freq = power_spectrum_1d(vals_observed, divisor = 1, axis = 0, sampling= 1)"
      ],
      "execution_count": 18,
      "outputs": [
        {
          "output_type": "stream",
          "text": [
            "64000\n"
          ],
          "name": "stdout"
        }
      ]
    },
    {
      "cell_type": "code",
      "metadata": {
        "colab": {
          "base_uri": "https://localhost:8080/",
          "height": 354
        },
        "id": "d6baEMiMvBFi",
        "outputId": "3373714b-8165-4be8-8c05-8ef697fd9f95"
      },
      "source": [
        "plt.loglog(freq, power)\n",
        "power = power.real\n",
        "print(power)\n",
        "print(binned_freq)\n",
        "binned_power = np.mean(power.reshape(-1, 5), axis=1)\n",
        "binned_freq = np.mean(freq.reshape(-1, 5), axis=1)\n",
        "\n",
        "plt.loglog(binned_freq[:], binned_power[:])"
      ],
      "execution_count": 36,
      "outputs": [
        {
          "output_type": "stream",
          "text": [
            "[1.00323091e+04 1.55665584e+04 9.16273925e+04 ... 2.18452268e+01\n",
            " 9.16273925e+04 1.55665584e+04]\n",
            "[-0.49996875 -0.49989063 -0.4998125  ...  0.49979688  0.499875\n",
            "  0.49995313]\n"
          ],
          "name": "stdout"
        },
        {
          "output_type": "execute_result",
          "data": {
            "text/plain": [
              "[<matplotlib.lines.Line2D at 0x7fbd3e37d850>]"
            ]
          },
          "metadata": {},
          "execution_count": 36
        },
        {
          "output_type": "display_data",
          "data": {
            "image/png": "[encoded data removed]",
            "text/plain": [
              "<Figure size 432x288 with 1 Axes>"
            ]
          },
          "metadata": {
            "needs_background": "light"
          }
        }
      ]
    },
    {
      "cell_type": "code",
      "metadata": {
        "colab": {
          "base_uri": "https://localhost:8080/",
          "height": 292
        },
        "id": "ySowPE6GG0Ja",
        "outputId": "cf9ce184-c50c-44f7-eb47-e6d6b31d98c9"
      },
      "source": [
        "binned_power = np.median(power.reshape(-1, 200), axis=1)\n",
        "binned_freq = np.median(freq.reshape(-1, 200), axis=1)\n",
        "\n",
        "plt.loglog(binned_freq[:], binned_power[:])\n",
        "plt.xlim(10**(-2), max(binned_freq))\n",
        "plt.ylim(10**3, 10**5)"
      ],
      "execution_count": 52,
      "outputs": [
        {
          "output_type": "execute_result",
          "data": {
            "text/plain": [
              "(1000, 100000)"
            ]
          },
          "metadata": {},
          "execution_count": 52
        },
        {
          "output_type": "display_data",
          "data": {
            "image/png": "[encoded data removed]",
            "text/plain": [
              "<Figure size 432x288 with 1 Axes>"
            ]
          },
          "metadata": {
            "needs_background": "light"
          }
        }
      ]
    },
    {
      "cell_type": "code",
      "metadata": {
        "id": "g1bT2738Kf9S"
      },
      "source": [
        ""
      ],
      "execution_count": null,
      "outputs": []
    }
  ]
}